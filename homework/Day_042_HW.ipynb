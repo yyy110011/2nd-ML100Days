{
 "cells": [
  {
   "cell_type": "markdown",
   "metadata": {},
   "source": [
    "## [作業重點]\n",
    "目前你應該已經要很清楚資料集中，資料的型態是什麼樣子囉！包含特徵 (features) 與標籤 (labels)。因此要記得未來不管什麼專案，必須要把資料清理成相同的格式，才能送進模型訓練。\n",
    "今天的作業開始踏入決策樹這個非常重要的模型，請務必確保你理解模型中每個超參數的意思，並試著調整看看，對最終預測結果的影響為何"
   ]
  },
  {
   "cell_type": "markdown",
   "metadata": {},
   "source": [
    "## 作業\n",
    "\n",
    "1. 試著調整 DecisionTreeClassifier(...) 中的參數，並觀察是否會改變結果？\n",
    "2. 改用其他資料集 (boston, wine)，並與回歸模型的結果進行比較"
   ]
  },
  {
   "cell_type": "code",
   "execution_count": 52,
   "metadata": {},
   "outputs": [],
   "source": [
    "from sklearn import datasets, metrics\n",
    "\n",
    "# 如果是分類問題，請使用 DecisionTreeClassifier，若為回歸問題，請使用 DecisionTreeRegressor\n",
    "from sklearn.tree import DecisionTreeClassifier, DecisionTreeRegressor\n",
    "from sklearn.model_selection import train_test_split"
   ]
  },
  {
   "cell_type": "code",
   "execution_count": 53,
   "metadata": {},
   "outputs": [],
   "source": [
    "# 讀取鳶尾花資料集\n",
    "iris = datasets.load_iris()\n",
    "\n",
    "# 切分訓練集/測試集\n",
    "x_train, x_test, y_train, y_test = train_test_split(iris.data, iris.target, test_size=0.26, random_state=4)\n",
    "\n",
    "# 建立模型\n",
    "clf = DecisionTreeClassifier(criterion='gini' ,max_depth=3, min_samples_split=3, min_samples_leaf=2)\n",
    "\n",
    "# 訓練模型\n",
    "clf.fit(x_train, y_train)\n",
    "\n",
    "# 預測測試集\n",
    "y_pred = clf.predict(x_test)"
   ]
  },
  {
   "cell_type": "code",
   "execution_count": 54,
   "metadata": {},
   "outputs": [
    {
     "name": "stdout",
     "output_type": "stream",
     "text": [
      "Acuuracy:  0.9743589743589743\n",
      "[0 2 0 1 0 2 0 0 1 1 2 0 1 2 2 1 1 0 1 2 1 0 1 0 1 2 1 2 1 0 2 2 0 1 2 0 2\n",
      " 1 2 1 0 2 1 2 0 2 1 2 1 2 1 1 2 1 1 2 1 1 0 2 0 1 0 1 1 1 1 0 2 2 1 1 1 0\n",
      " 0 2 2 0 0 0 2 0 0 2 2 1 0 0 0 2 1 0 0 2 1 2 0 0 2 1 1 1 2 2 1 2 1 1 2 2 2]\n"
     ]
    }
   ],
   "source": [
    "acc = metrics.accuracy_score(y_test, y_pred)\n",
    "print(\"Acuuracy: \", acc)"
   ]
  },
  {
   "cell_type": "code",
   "execution_count": 41,
   "metadata": {},
   "outputs": [
    {
     "name": "stdout",
     "output_type": "stream",
     "text": [
      "['sepal length (cm)', 'sepal width (cm)', 'petal length (cm)', 'petal width (cm)']\n"
     ]
    }
   ],
   "source": [
    "print(iris.feature_names)"
   ]
  },
  {
   "cell_type": "code",
   "execution_count": 42,
   "metadata": {},
   "outputs": [
    {
     "name": "stdout",
     "output_type": "stream",
     "text": [
      "Feature importance:  [0.         0.         0.56089185 0.43910815]\n"
     ]
    }
   ],
   "source": [
    "print(\"Feature importance: \", clf.feature_importances_)"
   ]
  },
  {
   "cell_type": "code",
   "execution_count": null,
   "metadata": {},
   "outputs": [],
   "source": []
  },
  {
   "cell_type": "code",
   "execution_count": 55,
   "metadata": {},
   "outputs": [],
   "source": [
    "boston = datasets.load_boston()\n",
    "\n",
    "x_train, x_test, y_train, y_test = train_test_split(boston.data, boston.target, test_size = 0.26, random_state=4)"
   ]
  },
  {
   "cell_type": "code",
   "execution_count": 56,
   "metadata": {},
   "outputs": [
    {
     "name": "stdout",
     "output_type": "stream",
     "text": [
      "(374, 13)\n",
      "(374,)\n",
      "[50.  29.4 42.8 21.7 11.8 24.8 19.4 17.5 13.4 13.9 24.5 15.  13.8 23.1\n",
      " 12.5 14.9 21.9 18.5 30.8 14.6 23.9 18.2 21.7 13.5 50.  23.1 48.8 13.8\n",
      " 20.1 50.  34.9  8.4 15.2 23.  24.7 25.3 17.2 50.  22.9 20.2 17.4 19.5\n",
      " 18.5 14.  22.6 14.1 15.6 46.  20.5 13.5 10.4 21.4 21.6 23.2 23.  17.6\n",
      " 16.1  5.   8.3 27.5 18.7 21.7 30.7  5.  11.3  7.  32.9 14.6 12.  28.1\n",
      " 18.   5.6 23.6 24.7 22.5 17.7 13.1 23.1 25.  14.9  9.7 22.8 22.  23.6\n",
      " 14.3 18.8 19.9 13.6 19.4 16.8 20.  43.1 27.9 20.1 19.  19.2 21.7 33.1\n",
      " 50.  33.2 20.1 21.1  8.8 12.3 14.5 23.8 18.7 21.8 21.9 21.7 17.1 23.1\n",
      " 36.1 28.2 11.5 19.  22.  10.5 21.4 16.5 20.6 23.3 23.5 15.  26.5 50.\n",
      " 10.5 17.5 13.6 17.2 19.1 16.4 20.6 20.9 30.1 20.7 22.2 24.6 25.2 37.9\n",
      " 20.1 29.6 18.7 23.  22.9 24.6 24.8 20.8 22.4 18.2 14.4 23.2 13.  19.7\n",
      " 21.2 21.7 24.  22.  20.6 11.9 24.3 23.8 22.8 13.3 25.  21.  20.4 33.1\n",
      " 48.3 14.5 36.  22.6 18.4 18.9 12.6 15.2 24.1 29.9 23.9 31.6 11.7 20.3\n",
      " 16.6 22.2 26.6 36.2 28.4 20.8 15.4 50.  18.1 23.1 21.5 13.1 21.8  8.5\n",
      " 15.6 26.2 32.2  9.6 31.6 17.8 34.7 20.  21.  22.7 28.7 23.9 35.4 13.2\n",
      " 18.3 13.1 23.1 20.6  7.  13.4 24.1 30.1 20.3 15.6 26.6 15.  37.2 27.1\n",
      " 24.4 17.8 19.8 10.2 23.1 37.3 23.2 19.1 19.6 38.7 25.  23.7 22.8 16.2\n",
      " 20.3 24.3 21.2 19.3 20.6 21.4 14.4 19.9 16.2 22.5 19.1 17.8 30.1 14.8\n",
      " 35.2 29.  25.1 21.5  8.3 22.  44.8 24.5 34.9 17.2 33.8 19.6 14.1  8.4\n",
      " 33.3 23.4 21.4 18.9 21.2  7.2 27.1 14.5 10.4 21.4 14.1 10.2 24.3 18.6\n",
      " 18.9 10.9 24.4 19.3 25.  36.5 20.5 20.4 19.6 27.9 21.1 26.6 10.8 36.2\n",
      " 34.9 31.5 31.7 34.6 17.8 29.8 35.1 17.1 13.4 37.  15.2 27.5 18.5 19.6\n",
      " 23.2 32.  23.4 28.7 22.  13.8 19.7 20.9 17.1 28.4 43.8 22.5 50.  50.\n",
      " 33.4 17.9 25.  22.3 50.   9.5 10.2 23.7 23.8  7.5 23.9 18.4 20.4 19.4\n",
      " 17.4 12.7 13.8 22.  29.1 24.7 20.8 24.1 15.4 19.6 32.5 24.   7.4 25.\n",
      " 15.7 21.7 21.2 11.7 22.7 16.8 21.6 23.9 22.1 20.6 19.4 22.6 29.6 23.3\n",
      " 13.8 33.4 12.7 22.2 25.   7.2 30.3 12.8 22.6 20.5]\n"
     ]
    }
   ],
   "source": [
    "print(x_train.shape)\n",
    "print(y_train.shape)\n",
    "print(y_train)"
   ]
  },
  {
   "cell_type": "code",
   "execution_count": 58,
   "metadata": {},
   "outputs": [],
   "source": [
    "dtr = DecisionTreeRegressor()\n",
    "\n",
    "dtr.fit(x_train, y_train)\n",
    "\n",
    "y_pred = dtr.predict(x_test)\n",
    "\n",
    "score = metrics.r2_score(y_pred, y_test)\n"
   ]
  },
  {
   "cell_type": "code",
   "execution_count": 59,
   "metadata": {},
   "outputs": [
    {
     "name": "stdout",
     "output_type": "stream",
     "text": [
      "0.7659019917314479\n"
     ]
    }
   ],
   "source": [
    "print(score)"
   ]
  },
  {
   "cell_type": "code",
   "execution_count": null,
   "metadata": {},
   "outputs": [],
   "source": []
  }
 ],
 "metadata": {
  "kernelspec": {
   "display_name": "Python 3",
   "language": "python",
   "name": "python3"
  },
  "language_info": {
   "codemirror_mode": {
    "name": "ipython",
    "version": 3
   },
   "file_extension": ".py",
   "mimetype": "text/x-python",
   "name": "python",
   "nbconvert_exporter": "python",
   "pygments_lexer": "ipython3",
   "version": "3.7.3"
  }
 },
 "nbformat": 4,
 "nbformat_minor": 2
}

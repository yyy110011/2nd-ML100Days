{
 "cells": [
  {
   "cell_type": "markdown",
   "metadata": {},
   "source": [
    "## tree based model - 梯度提升機 (Gradient Boosting Machine) 介紹  \n"
   ]
  },
  {
   "cell_type": "markdown",
   "metadata": {},
   "source": [
    "## 參考資料  \n",
    "### Kaggle 大師帶你了解梯度提升機原理 - 英文  \n",
    "## http://blog.kaggle.com/2017/01/23/a-kaggle-master-explains-gradient-boosting/  \n",
    "### 完整的 Ensemble 概念 by 李宏毅教授  \n",
    "## https://www.youtube.com/watch?v=tH9FH1DH5n0  \n",
    "### 深入了解 Gradient-boosting - 英文  \n",
    "## https://explained.ai/gradient-boosting/index.html  \n",
    "## \n",
    "## https://ifun01.com/84A3FW7.html  \n",
    "## https://www.youtube.com/watch?v=ufHo8vbk6g4  \n",
    "## https://homes.cs.washington.edu/~tqchen/pdf/BoostedTree.pdf"
   ]
  },
  {
   "cell_type": "code",
   "execution_count": null,
   "metadata": {},
   "outputs": [],
   "source": []
  }
 ],
 "metadata": {
  "kernelspec": {
   "display_name": "Python 3",
   "language": "python",
   "name": "python3"
  },
  "language_info": {
   "codemirror_mode": {
    "name": "ipython",
    "version": 3
   },
   "file_extension": ".py",
   "mimetype": "text/x-python",
   "name": "python",
   "nbconvert_exporter": "python",
   "pygments_lexer": "ipython3",
   "version": "3.7.3"
  }
 },
 "nbformat": 4,
 "nbformat_minor": 2
}
